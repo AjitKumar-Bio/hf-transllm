{
 "cells": [
  {
   "cell_type": "code",
   "execution_count": 1,
   "metadata": {},
   "outputs": [],
   "source": [
    "from translang import TranslationService\n",
    "\n",
    "translator = TranslationService(translator=\"google\")                                                                         # Google\n",
    "# translator = TranslationService(translator=\"deepl\", deepl_api_key=\"YOUR_DEEPL_API_KEY\")                                    # DeepL\n",
    "# translator = TranslationService(translator=\"bard\", bard_api_key=\"YOUR_BARD_API_KEY\")                                       # Bard\n",
    "# translator = TranslationService(translator=\"openai\", openai_api_key=\"YOUR_OPENAI_API_KEY\", openai_model=\"gpt-3.5-trubo\")   # Open AI\n",
    "\n",
    "translated_text = translator.translate(\"Hello\", \"ko\")"
   ]
  },
  {
   "cell_type": "code",
   "execution_count": 2,
   "metadata": {},
   "outputs": [
    {
     "name": "stderr",
     "output_type": "stream",
     "text": [
      "The model weights are not tied. Please use the `tie_weights` method before using the `infer_auto_device` function.\n"
     ]
    },
    {
     "name": "stdout",
     "output_type": "stream",
     "text": [
      "<s>저와 제 동료들이 좋아하는 New Jeans에 대해 말씀해 주세요.\n",
      "나는 New Jeans가 너무 귀엽고 좋은 점이 많기 때문에 좋아합니다.\n"
     ]
    }
   ],
   "source": [
    "from transllm import LLMtranslator\n",
    "import torch\n",
    "\n",
    "# Set huggingface repository\n",
    "# model_path = 'TheBloke/Wizard-Vicuna-13B-Uncensored-HF'\n",
    "model_path = 'openlm-research/open_llama_3b'\n",
    "# model_path = 'openlm-research/open_llama_7b'\n",
    "# model_path = 'openlm-research/open_llama_13b'\n",
    "\n",
    "# Choose Translate Service API: Google Translator, DeepL, OpenAI, Bard\n",
    "open_llama_kor = LLMtranslator(model_path, target_lang='ko', torch_dtype=torch.float32, translator='google')\n",
    "\n",
    "# Using multi-language LLM\n",
    "prompt = \"나와 내 동년배들이 좋아하는 뉴진스에 대해서 알려줘\"\n",
    "translated_answer = open_llama_kor.generate(prompt)\n",
    "print(translated_answer)"
   ]
  }
 ],
 "metadata": {
  "kernelspec": {
   "display_name": "miccai",
   "language": "python",
   "name": "miccai"
  },
  "language_info": {
   "codemirror_mode": {
    "name": "ipython",
    "version": 3
   },
   "file_extension": ".py",
   "mimetype": "text/x-python",
   "name": "python",
   "nbconvert_exporter": "python",
   "pygments_lexer": "ipython3",
   "version": "3.8.5"
  },
  "orig_nbformat": 4
 },
 "nbformat": 4,
 "nbformat_minor": 2
}
