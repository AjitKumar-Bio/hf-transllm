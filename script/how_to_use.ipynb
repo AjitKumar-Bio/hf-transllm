{
 "cells": [
  {
   "attachments": {},
   "cell_type": "markdown",
   "metadata": {},
   "source": [
    "!pip install transllm==0.1.1"
   ]
  },
  {
   "attachments": {},
   "cell_type": "markdown",
   "metadata": {},
   "source": [
    "# 01. Google Translator"
   ]
  },
  {
   "cell_type": "code",
   "execution_count": 2,
   "metadata": {},
   "outputs": [
    {
     "name": "stderr",
     "output_type": "stream",
     "text": [
      "C:\\Users\\parkm\\AppData\\Roaming\\Python\\Python39\\site-packages\\transformers\\generation\\utils.py:1405: UserWarning: You are calling .generate() with the `input_ids` being on a device type different than your model's device. `input_ids` is on cpu, whereas the model is on cuda. You may experience unexpected behaviors or slower generation. Please make sure that you have put `input_ids` to the correct device by calling for example input_ids = input_ids.to('cuda') before running `.generate()`.\n",
      "  warnings.warn(\n"
     ]
    },
    {
     "name": "stdout",
     "output_type": "stream",
     "text": [
      "<s>저와 제 동료들이 좋아하는 New Jeans에 대해 말씀해 주세요.\n",
      "나는 New Jeans가 너무 귀엽고 좋은 노래가 많아서 좋아합니다.\n",
      "나는 New Jeans가 너무 귀여워서 좋아합니다.\n"
     ]
    }
   ],
   "source": [
    "from transllm import LLMtranslator\n",
    "\n",
    "model_path = 'openlm-research/open_llama_3b'\n",
    "# model_path = 'openlm-research/open_llama_7b'\n",
    "# model_path = 'openlm-research/open_llama_13b'\n",
    "\n",
    "\n",
    "open_llama_kor = LLMtranslator(model_path, target_lang='ko', translator='google')\n",
    "\n",
    "\n",
    "prompt = \"나와 내 동년배들이 좋아하는 뉴진스에 대해서 알려줘\"\n",
    "translation = open_llama_kor.generate(prompt)\n",
    "print(translation)"
   ]
  }
 ],
 "metadata": {
  "kernelspec": {
   "display_name": "test",
   "language": "python",
   "name": "test"
  },
  "language_info": {
   "codemirror_mode": {
    "name": "ipython",
    "version": 3
   },
   "file_extension": ".py",
   "mimetype": "text/x-python",
   "name": "python",
   "nbconvert_exporter": "python",
   "pygments_lexer": "ipython3",
   "version": "3.9.12"
  },
  "orig_nbformat": 4
 },
 "nbformat": 4,
 "nbformat_minor": 2
}
